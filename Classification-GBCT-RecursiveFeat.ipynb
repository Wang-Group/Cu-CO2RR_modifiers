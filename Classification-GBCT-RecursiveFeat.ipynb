{
 "cells": [
  {
   "attachments": {},
   "cell_type": "markdown",
   "metadata": {},
   "source": [
    "# 基于Scikit-Learn API的 Classification模板\n",
    "\n",
    ">20221110sym新建，从原来Jacs Cu体系的程序中借鉴，综合多种分类模型看特征重要性和全集表现"
   ]
  },
  {
   "cell_type": "code",
   "execution_count": 2,
   "metadata": {
    "ExecuteTime": {
     "end_time": "2023-03-29T01:28:07.014195Z",
     "start_time": "2023-03-29T01:28:06.507637Z"
    },
    "scrolled": true
   },
   "outputs": [],
   "source": [
    "import numpy as np\n",
    "import matplotlib.pyplot as plt\n",
    "from multiprocessing import Pool\n",
    "import time\n",
    "c_time = time.strftime(\"%Y%m%d_%H%M%S\", time.localtime())\n",
    "c_time_m = time.strftime(\"%Y-%m-%d %H:%M:%S\", time.localtime())"
   ]
  },
  {
   "cell_type": "code",
   "execution_count": null,
   "metadata": {
    "ExecuteTime": {
     "end_time": "2023-03-29T01:27:49.559053Z",
     "start_time": "2023-03-29T01:31:18.243Z"
    },
    "scrolled": true
   },
   "outputs": [],
   "source": [
    "# 参数\n",
    "# ======== System Setup ========\n",
    "Version = 'Classification-GBRT-sym-SeqFeat'\n",
    "EPOCH = 16\n",
    "CORE_NUM = 32       # 总运行轮数=EPOCH/CORE_NUM\n",
    "# ======== Fit Data Input ========\n",
    "S_N = 237\n",
    "F_N = 54\n",
    "INPUT_X = 'Features_'+str(S_N)+'_'+str(F_N)+'.csv'\n",
    "INPUT_Y = 'Values_True_'+str(S_N)+'.csv'\n",
    "INPUT_TITLE = 'Title_'+str(F_N)+'.csv'\n",
    "INPUT_Xtest=None\n",
    "\n",
    "BEGIN_INDEX = 0\n",
    "END_INDEX_PLUS_ONE = None   # 设为None或者调成0和特征数量，即可使用全部特征\n",
    "INPUT_SMILES = 'Smiles_'+str(S_N)+'.csv'\n",
    "\n",
    "# ======== Other Fitting Settings ========\n",
    "TRAIN_TEST_SPLIT = 0.85\n",
    "SORT_SAMPLE = False\n",
    "TEST_SPLIT_OOB = False\n",
    "R2_HIGHER_LIMIT = 0.70\n",
    "CONFIDENCE = 0.95\n",
    "SAVE_RESULTS_OF_EVERY_ROUND = False\n",
    "# ======== Data Output ========\n",
    "SAVE_NAME = 'XGBoostClassification_'+c_time+'.png'\n",
    "SUPTITLE = 'XGBoost on '+INPUT_X+' and '+INPUT_Y+'\\nEPOCH:'+str(EPOCH)+'\\n'"
   ]
  },
  {
   "cell_type": "code",
   "execution_count": null,
   "metadata": {
    "ExecuteTime": {
     "end_time": "2023-03-29T01:27:49.560092Z",
     "start_time": "2023-03-29T01:31:18.244Z"
    }
   },
   "outputs": [],
   "source": [
    "X = np.loadtxt(INPUT_X, delimiter=',')[:, BEGIN_INDEX:END_INDEX_PLUS_ONE]\n",
    "title = np.loadtxt(INPUT_TITLE, dtype='str', delimiter=',', comments='!')[BEGIN_INDEX:END_INDEX_PLUS_ONE, ]\n",
    "y = np.loadtxt(INPUT_Y)\n",
    "print('X:', X.shape, '   y:', y.shape)\n",
    "headers=title\n",
    "classbound=5\n",
    "y=y>classbound\n",
    "if INPUT_Xtest!=None:\n",
    "    test = np.loadtxt(INPUT_Xtest, delimiter=',')[:, BEGIN_INDEX:END_INDEX_PLUS_ONE]\n",
    "    # gbct.predict(test)用这个句式即可预测"
   ]
  },
  {
   "cell_type": "code",
   "execution_count": null,
   "metadata": {
    "ExecuteTime": {
     "end_time": "2023-03-29T01:27:49.561151Z",
     "start_time": "2023-03-29T01:31:18.245Z"
    },
    "scrolled": true
   },
   "outputs": [],
   "source": [
    "from sklearn.model_selection import StratifiedShuffleSplit\n",
    "from sklearn.model_selection import train_test_split\n",
    "from sklearn.model_selection import cross_validate\n",
    "from sklearn.metrics import RocCurveDisplay\n",
    "from sklearn.metrics import auc\n",
    "import pandas as pd\n",
    "from sklearn import model_selection\n",
    "from sklearn.model_selection import GridSearchCV\n",
    "from sklearn.model_selection import cross_val_score\n",
    "from sklearn.metrics import confusion_matrix\n",
    "import joblib\n",
    "import matplotlib.pyplot as plt\n",
    "import numpy as np\n",
    "from sklearn import metrics\n",
    "\n",
    "from sklearn.feature_selection import RFECV\n",
    "from sklearn.model_selection import StratifiedKFold\n",
    "from sklearn.linear_model import LogisticRegression\n"
   ]
  },
  {
   "cell_type": "code",
   "execution_count": null,
   "metadata": {
    "ExecuteTime": {
     "end_time": "2023-03-29T01:27:49.562181Z",
     "start_time": "2023-03-29T01:31:18.245Z"
    }
   },
   "outputs": [],
   "source": [
    "import os\n",
    "from pathlib import Path\n",
    "DIR = 'Classification'+Version+str(X.shape[1])+'_Fs_'+c_time\n",
    "os.mkdir(DIR)"
   ]
  },
  {
   "cell_type": "code",
   "execution_count": null,
   "metadata": {
    "ExecuteTime": {
     "end_time": "2023-03-29T01:27:49.563248Z",
     "start_time": "2023-03-29T01:31:18.246Z"
    }
   },
   "outputs": [],
   "source": [
    "X_train, X_test, y_train, y_test = train_test_split(\n",
    "    X, y, test_size=0.15, random_state=10)\n",
    "cv = StratifiedShuffleSplit(n_splits=10, test_size=0.15)\n",
    "print('length of trainingset is'+str(len(X_train)))\n",
    "print('    length of test is '+str(len(y_test)))\n",
    "save_name = 'Xtrain_full_'+str(len(X_train))+'.csv'\n",
    "save_name = Path('.', DIR, save_name)\n",
    "np.savetxt(save_name, X_train, fmt='%s', delimiter=',')"
   ]
  },
  {
   "cell_type": "code",
   "execution_count": null,
   "metadata": {
    "ExecuteTime": {
     "end_time": "2023-03-29T01:27:49.564359Z",
     "start_time": "2023-03-29T01:31:18.246Z"
    }
   },
   "outputs": [],
   "source": [
    "LOG_NAME = Version+c_time+'.txt'\n",
    "LOG_NAME = Path('.', DIR, LOG_NAME)\n",
    "f1 = open(LOG_NAME, 'w+')\n",
    "f1.write('GBCT Regressor\\n\\n')\n",
    "f1.write('Total Epoch: '+str(EPOCH)+'\\n\\n')\n",
    "f1.write('Dataset: '+INPUT_X+', '+INPUT_Y+'\\n')\n",
    "f1.write('Data Shape: '+str(X.shape)+', '+str(y.shape)+'\\n\\n')\n",
    "f1.write('y=y> '+str(classbound)+'\\n\\n')\n",
    "f1.write('length of trainingset is'+str(len(X_train))+'    length of test is '+str(len(y_test)))"
   ]
  },
  {
   "cell_type": "code",
   "execution_count": null,
   "metadata": {
    "ExecuteTime": {
     "end_time": "2023-03-29T01:27:49.565407Z",
     "start_time": "2023-03-29T01:31:18.247Z"
    }
   },
   "outputs": [],
   "source": [
    "#GBCT model\n",
    "from sklearn.ensemble import GradientBoostingClassifier\n",
    "gbct= GradientBoostingClassifier(n_estimators=500,learning_rate=0.0025,max_depth=5,verbose=0, validation_fraction=0.15, n_iter_no_change=50, tol=0.0001)\n",
    "gbct.fit(X_train, y_train)\n",
    "acc_unique = gbct.score(X_test, y_test)\n",
    "print('Current accuracy:', acc_unique)\n",
    "f1.write('GBCT current accuracy:\\n'+str(acc_unique)+'\\n')\n",
    "f1.write('Now begin Recursive feature elimination'+'\\n')\n",
    "import joblib\n",
    "save_name = 'Full_model.m'\n",
    "save_name = Path('.', DIR, save_name)\n",
    "joblib.dump(gbct,save_name)"
   ]
  },
  {
   "cell_type": "code",
   "execution_count": null,
   "metadata": {
    "ExecuteTime": {
     "end_time": "2023-03-29T01:27:49.567516Z",
     "start_time": "2023-03-29T01:31:18.249Z"
    }
   },
   "outputs": [],
   "source": [
    "# Recursive feature elimination with cross-validation to select features from sklearn\n",
    "min_features_to_select = 1  # Minimum number of features to consider\n",
    "\n",
    "featnumset=10\n",
    "count=0\n",
    "featnumlist=[featnumset]\n",
    "while featnumlist[-1]>=featnumset:\n",
    "    count+=1\n",
    "    f1.write(' Recursive feature elimination: '+str(count)+'begin\\n')\n",
    "    rfecv = RFECV(estimator=gbct,step=3,cv=cv,scoring='accuracy',min_features_to_select=min_features_to_select,n_jobs=CORE_NUM,importance_getter='feature_importances_')\n",
    "    rfecv.fit(X, y)\n",
    "\n",
    "    title_new=rfecv.get_feature_names_out(title)\n",
    "    print(title_new)\n",
    "    f1.write(' Recursive feature elimination title new: '+str(title_new)+'\\n')\n",
    "    print(f\"Optimal number of features: {rfecv.n_features_}\")\n",
    "    featnumlist.append(rfecv.n_features_)\n",
    "    data_out = []\n",
    "    title_out = []\n",
    "    for i in range(len(title)):\n",
    "        t = title[i]\n",
    "        if t in title_new:\n",
    "            title_out.append(t)\n",
    "            data_out.append(i)\n",
    "    print(len(title_out))\n",
    "    f1.write('This round is:'+str(count)+'\\n'+'length of features is'+str(len(title_out))+'\\n'+'feature list is ,'+str(title_out))\n",
    "    X=X[:, data_out]\n",
    "    title=title_out\n",
    "    # drawpics\n",
    "    n_scores = len(rfecv.cv_results_[\"mean_test_score\"])\n",
    "    fig, (ax1) = plt.subplots(figsize=(15, 15))\n",
    "    plt.xlabel(\"Number of features selected\", fontsize=25)\n",
    "    plt.ylabel(\"Mean test accuracy\", fontsize=25)\n",
    "    plt.errorbar(\n",
    "        range(min_features_to_select, n_scores + min_features_to_select),\n",
    "        rfecv.cv_results_[\"mean_test_score\"],\n",
    "        yerr=rfecv.cv_results_[\"std_test_score\"],\n",
    "    )\n",
    "    save_name = 'Recursive_GBCT_'+str(round(count,2))+'.csv'\n",
    "    save_name = Path('.', DIR, save_name)\n",
    "    np.savetxt(save_name, np.vstack((range(min_features_to_select, n_scores + min_features_to_select), rfecv.cv_results_[\"mean_test_score\"], rfecv.cv_results_[\"std_test_score\"]))\n",
    "               , fmt='%s', delimiter=',')\n",
    "    \n",
    "    plt.title(\"Recursive Feature Elimination \\nwith correlated features\", fontsize=25)\n",
    "    plt.xticks(fontname=\"Times New Roman\", fontsize=25)\n",
    "    plt.yticks(fontname=\"Times New Roman\", fontsize=25)\n",
    "    fig.tight_layout()\n",
    "    plot_tree_name_2 = 'Recursive Feature Elimination process'+'_count_'+str(round(count,2))+'.png'\n",
    "    plot_tree_name_2 = Path('.', DIR, plot_tree_name_2)\n",
    "    plt.savefig(plot_tree_name_2, bbox_inches='tight',dpi=200)\n",
    "    plt.show()"
   ]
  },
  {
   "attachments": {},
   "cell_type": "markdown",
   "metadata": {
    "ExecuteTime": {
     "end_time": "2023-03-06T13:02:56.573775Z",
     "start_time": "2023-03-06T13:02:56.476834Z"
    }
   },
   "source": [
    "Because The shape of X changed by recursive algorithm, we have to train again"
   ]
  },
  {
   "cell_type": "code",
   "execution_count": null,
   "metadata": {
    "ExecuteTime": {
     "end_time": "2023-03-29T01:27:49.568474Z",
     "start_time": "2023-03-29T01:31:18.258Z"
    }
   },
   "outputs": [],
   "source": [
    "X_train, X_test, y_train, y_test = train_test_split(X, y, test_size=0.15, random_state=1)\n",
    "save_name = 'Xtrain_sel_'+str(len(X_train))+'.csv'\n",
    "save_name = Path('.', DIR, save_name)\n",
    "np.savetxt(save_name, X_train, fmt='%s', delimiter=',')\n",
    "np.savetxt(save_name, X_train, fmt='%s', delimiter=',')\n",
    "gbct.fit(X_train, y_train)\n",
    "acc_unique = gbct.score(X_test, y_test)\n",
    "print('Current accuracy:', acc_unique)\n",
    "print(gbct.feature_importances_)\n",
    "f1.write('\\n\\n   Classification-GBCT-RecursiveFeat_sym Done Normally at '+time.strftime(\"%Y-%m-%d %H:%M:%S\", time.localtime())+'\\n\\n\\n')\n",
    "save_name = 'Sel_model.m'\n",
    "save_name = Path('.', DIR, save_name)\n",
    "joblib.dump(gbct,save_name)"
   ]
  },
  {
   "cell_type": "code",
   "execution_count": null,
   "metadata": {
    "ExecuteTime": {
     "end_time": "2023-03-29T01:27:49.569566Z",
     "start_time": "2023-03-29T01:31:18.259Z"
    }
   },
   "outputs": [],
   "source": [
    "from sklearn.inspection import permutation_importance\n",
    "result = permutation_importance(gbct, X, y, n_repeats=10,\n",
    "                                random_state=19)\n",
    "print(result)\n",
    "f1.write('GBCT 10 times permutation feature importance:\\n'+str(result)+'\\n')\n",
    "\n",
    "perm_sorted_idx = result.importances_mean.argsort()\n",
    "fig, (ax1) = plt.subplots(figsize=(15, 10))\n",
    "ax1.boxplot(result.importances[perm_sorted_idx].T, vert=False,\n",
    "          labels=np.array(title)[perm_sorted_idx])\n",
    "plt.title(\"GradientBoostingClassifier model feature importance\",fontname=\"Times New Roman\", fontsize=25)\n",
    "plt.xlabel('Feature importance', fontdict={\"family\": \"Times New Roman\", \"size\": 25})\n",
    "plt.ylabel('Feature names', fontdict={\"family\": \"Times New Roman\", \"size\": 25})\n",
    "plt.xticks(fontname=\"Times New Roman\", fontsize=20)\n",
    "plt.yticks(fontname=\"Times New Roman\", fontsize=25)\n",
    "fig.tight_layout()\n",
    "plot_tree_name_2 = 'GradientBoostingClassifier Model Permutation Feature importance_'+'_acc_'+str(round(acc_unique,2))+'.png'\n",
    "plot_tree_name_2 = Path('.', DIR, plot_tree_name_2)\n",
    "plt.savefig(plot_tree_name_2, bbox_inches='tight',dpi=200)\n",
    "plt.show()"
   ]
  },
  {
   "cell_type": "code",
   "execution_count": null,
   "metadata": {
    "ExecuteTime": {
     "end_time": "2023-03-29T01:27:49.570597Z",
     "start_time": "2023-03-29T01:31:18.259Z"
    }
   },
   "outputs": [],
   "source": [
    "from sklearn.metrics import plot_confusion_matrix\n",
    "plot_confusion_matrix(gbct, X_test, y_test)  # doctest: +SKIP\n",
    "\n",
    "modelname='GradientBoostingClassifier'\n",
    "plt.title(modelname)\n",
    "PLOT_NAME2 = 'confusion_matrix_'+modelname+'.png'\n",
    "PLOT_NAME2 = Path('.', DIR, PLOT_NAME2)\n",
    "plt.savefig(PLOT_NAME2, bbox_inches='tight',dpi=150)\n",
    "plt.show()  # doctest: +SKIP"
   ]
  },
  {
   "cell_type": "code",
   "execution_count": null,
   "metadata": {
    "ExecuteTime": {
     "end_time": "2023-03-29T01:27:49.571521Z",
     "start_time": "2023-03-29T01:31:18.260Z"
    }
   },
   "outputs": [],
   "source": [
    "data_out = []\n",
    "title_out = []\n",
    "for i in range(len(headers)):\n",
    "    t = headers[i]\n",
    "    if t in title:\n",
    "        title_out.append(t)\n",
    "        data_out.append(i)\n",
    "print(len(title_out))\n",
    "print(data_out)\n",
    "\n",
    "f1.write('Pred_sel result is:'+str(predres2)+'\\n')\n",
    "f1.close()"
   ]
  },
  {
   "cell_type": "code",
   "execution_count": null,
   "metadata": {
    "ExecuteTime": {
     "end_time": "2023-03-29T01:27:49.572637Z",
     "start_time": "2023-03-29T01:31:18.261Z"
    }
   },
   "outputs": [],
   "source": [
    "import shap\n",
    "# X_train, X_test, y_train, y_test = train_test_split(\n",
    "#     X, y, test_size=0.15, random_state=19)\n",
    "explainer = shap.TreeExplainer(gbct)\n",
    "shap_values = explainer.shap_values(X)\n",
    "shap.summary_plot(shap_values, X,feature_names=title)\n",
    "shap_values\n",
    "save_name = 'SHAP_Matrix_GBCT_'+c_time+'.csv'\n",
    "save_name = Path('.', DIR, save_name)\n",
    "np.savetxt(save_name, shap_values, fmt='%s', delimiter=',')\n",
    "save_name = 'X_Matrix_GBCT_'+c_time+'.csv'\n",
    "save_name = Path('.', DIR, save_name)\n",
    "np.savetxt(save_name, X, fmt='%s', delimiter=',')\n",
    "for i in range(len(title)):    \n",
    "    plt.scatter(X[:,i], shap_values[:,i])\n",
    "    plt.title(title[i])\n",
    "    plt.show()"
   ]
  },
  {
   "cell_type": "code",
   "execution_count": null,
   "metadata": {
    "ExecuteTime": {
     "end_time": "2023-03-29T01:27:49.573696Z",
     "start_time": "2023-03-29T01:31:18.262Z"
    }
   },
   "outputs": [],
   "source": [
    "# Run classifier with cross-validation and plot ROC curves\n",
    "\n",
    "classifier = gbct\n",
    "\n",
    "tprs = []\n",
    "aucs = []\n",
    "mean_fpr = np.linspace(0, 1, 100)\n",
    "\n",
    "# plt.figure(figsize=(16, 16), dpi=250)\n",
    "fig, ax = plt.subplots(figsize=(6, 6), dpi=250)\n",
    "for i, (train, test) in enumerate(cv.split(X, y)):\n",
    "    classifier.fit(X[train], y[train])\n",
    "    viz = RocCurveDisplay.from_estimator(\n",
    "        classifier,\n",
    "        X[test],\n",
    "        y[test],\n",
    "        name=\"ROC fold {}\".format(i),\n",
    "        alpha=0.3,\n",
    "        lw=1,\n",
    "        ax=ax,\n",
    "    )\n",
    "    interp_tpr = np.interp(mean_fpr, viz.fpr, viz.tpr)\n",
    "    interp_tpr[0] = 0.0\n",
    "    tprs.append(interp_tpr)\n",
    "    aucs.append(viz.roc_auc)\n",
    "\n",
    "\n",
    "ax.plot([0, 1], [0, 1], linestyle=\"--\", lw=2, color=\"r\", label=\"Chance\", alpha=0.8)\n",
    "\n",
    "mean_tpr = np.mean(tprs, axis=0)\n",
    "mean_tpr[-1] = 1.0\n",
    "mean_auc = auc(mean_fpr, mean_tpr)\n",
    "std_auc = np.std(aucs)\n",
    "ax.plot(\n",
    "    mean_fpr,\n",
    "    mean_tpr,\n",
    "    color=\"b\",\n",
    "    label=r\"Mean ROC (AUC = %0.2f $\\pm$ %0.2f)\" % (mean_auc, std_auc),\n",
    "    lw=2,\n",
    "    alpha=0.8,\n",
    ")\n",
    "\n",
    "std_tpr = np.std(tprs, axis=0)\n",
    "tprs_upper = np.minimum(mean_tpr + std_tpr, 1)\n",
    "tprs_lower = np.maximum(mean_tpr - std_tpr, 0)\n",
    "ax.fill_between(\n",
    "    mean_fpr,\n",
    "    tprs_lower,\n",
    "    tprs_upper,\n",
    "    color=\"grey\",\n",
    "    alpha=0.2,\n",
    "    label=r\"$\\pm$ 1 std. dev.\",\n",
    ")\n",
    "\n",
    "ax.set(\n",
    "    xlim=[-0.05, 1.05],\n",
    "    ylim=[-0.05, 1.05]\n",
    "\n",
    ")\n",
    "plt.title(\"GradientBoostingClassifier\",fontname=\"Times New Roman\", fontsize=25)\n",
    "plt.xlabel('False positive rate', fontdict={\"family\": \"Times New Roman\", \"size\": 25})\n",
    "plt.ylabel('True positive rate', fontdict={\"family\": \"Times New Roman\", \"size\": 25})\n",
    "plt.xticks(fontname=\"Times New Roman\", fontsize=25)\n",
    "plt.yticks(fontname=\"Times New Roman\", fontsize=25)\n",
    "ax.legend(loc=\"lower right\")\n",
    "\n",
    "score1=cross_validate(classifier, X, y, cv=cv, scoring=('accuracy','f1'))\n",
    "\n",
    "print(score1)\n",
    "PLOT_NAME6 = 'Receiver operating characteristic_'+'GradientBoostingClassifier Model_'+'_AUC_'+str(round(np.mean(mean_auc),3))+'_acc_'+str(round(np.mean(score1['test_accuracy']),3))+'_f1_'+str(round(np.mean(score1['test_f1']),3))+'.png';\n",
    "PLOT_NAME6 = Path('.', DIR, PLOT_NAME6)\n",
    "print(PLOT_NAME6)\n",
    "plt.savefig(PLOT_NAME6, dpi=250, bbox_inches='tight')\n",
    "plt.show()"
   ]
  },
  {
   "cell_type": "code",
   "execution_count": null,
   "metadata": {},
   "outputs": [],
   "source": []
  }
 ],
 "metadata": {
  "hide_input": false,
  "kernelspec": {
   "display_name": "PythonForDYH",
   "language": "python",
   "name": "dyhpy"
  },
  "language_info": {
   "codemirror_mode": {
    "name": "ipython",
    "version": 3
   },
   "file_extension": ".py",
   "mimetype": "text/x-python",
   "name": "python",
   "nbconvert_exporter": "python",
   "pygments_lexer": "ipython3",
   "version": "3.7.6"
  },
  "varInspector": {
   "cols": {
    "lenName": 16,
    "lenType": 16,
    "lenVar": 40
   },
   "kernels_config": {
    "python": {
     "delete_cmd_postfix": "",
     "delete_cmd_prefix": "del ",
     "library": "var_list.py",
     "varRefreshCmd": "print(var_dic_list())"
    },
    "r": {
     "delete_cmd_postfix": ") ",
     "delete_cmd_prefix": "rm(",
     "library": "var_list.r",
     "varRefreshCmd": "cat(var_dic_list()) "
    }
   },
   "position": {
    "height": "760.148px",
    "left": "1813.65px",
    "right": "20px",
    "top": "115.992px",
    "width": "758.625px"
   },
   "types_to_exclude": [
    "module",
    "function",
    "builtin_function_or_method",
    "instance",
    "_Feature"
   ],
   "window_display": false
  }
 },
 "nbformat": 4,
 "nbformat_minor": 2
}

{
 "cells": [
  {
   "cell_type": "markdown",
   "metadata": {},
   "source": [
    "# 基于Scikit-Learn API的 Classification模板\n",
    "\n",
    ">20221110sym新建，从原来Jacs Cu体系的程序中借鉴，综合多种分类模型看特征重要性和全集表现"
   ]
  },
  {
   "cell_type": "code",
   "execution_count": 1,
   "metadata": {
    "ExecuteTime": {
     "end_time": "2023-03-29T01:33:30.791090Z",
     "start_time": "2023-03-29T01:33:30.139548Z"
    },
    "scrolled": true
   },
   "outputs": [],
   "source": [
    "import numpy as np\n",
    "import matplotlib.pyplot as plt\n",
    "from multiprocessing import Pool\n",
    "import time\n",
    "c_time = time.strftime(\"%Y%m%d_%H%M%S\", time.localtime())\n",
    "c_time_m = time.strftime(\"%Y-%m-%d %H:%M:%S\", time.localtime())"
   ]
  },
  {
   "cell_type": "code",
   "execution_count": 2,
   "metadata": {
    "ExecuteTime": {
     "end_time": "2023-03-29T01:33:30.798755Z",
     "start_time": "2023-03-29T01:33:30.793077Z"
    },
    "scrolled": true
   },
   "outputs": [],
   "source": [
    "# 参数\n",
    "# ======== System Setup ========\n",
    "Version = 'Classification-Multimodel_-sym'\n",
    "EPOCH = 16\n",
    "CORE_NUM = 16       # 总运行轮数=EPOCH/CORE_NUM\n",
    "# ======== Fit Data Input ========\n",
    "S_N = 237\n",
    "F_N = 54\n",
    "INPUT_X = 'Features_'+str(S_N)+'_'+str(F_N)+'.csv'\n",
    "INPUT_Y = 'Values_True_'+str(S_N)+'.csv'\n",
    "INPUT_TITLE = 'Title_'+str(F_N)+'.csv'\n",
    "INPUT_Xtest='predFull_8_56.csv'\n",
    "\n",
    "BEGIN_INDEX = 0\n",
    "END_INDEX_PLUS_ONE = None   # 设为None或者调成0和特征数量，即可使用全部特征\n",
    "INPUT_SMILES = 'Smiles_'+str(S_N)+'.csv'\n",
    "TITLE_DATE = '220322'\n",
    "INPUT_MFF = 'Title_MFF-'+TITLE_DATE+'.csv'\n",
    "INPUT_DESC = 'Title_Desc-'+TITLE_DATE+'.csv'\n",
    "INPUT_CONJU = 'Title_Conju-'+TITLE_DATE+'.csv'\n",
    "# ======== Find Split Settings ========\n",
    "INPUT_SPLIT = 'R2_0.7515_XGB-Split.csv'\n",
    "FIND_SPLIT = True\n",
    "# CAL_MAE_LOOP = False\n",
    "SAVE_MODEL = True\n",
    "# ======== Other Fitting Settings ========\n",
    "TRAIN_TEST_SPLIT = 0.85\n",
    "SORT_SAMPLE = False\n",
    "TEST_SPLIT_OOB = False\n",
    "R2_HIGHER_LIMIT = 0.70\n",
    "CONFIDENCE = 0.95\n",
    "SAVE_RESULTS_OF_EVERY_ROUND = False\n",
    "# ======== Data Output ========\n",
    "SAVE_NAME = 'XGBoostClassification_'+c_time+'.png'\n",
    "SUPTITLE = 'XGBoost on '+INPUT_X+' and '+INPUT_Y+'\\nEPOCH:'+str(EPOCH)+'\\n'"
   ]
  },
  {
   "cell_type": "code",
   "execution_count": 3,
   "metadata": {
    "ExecuteTime": {
     "end_time": "2023-03-29T01:33:31.102427Z",
     "start_time": "2023-03-29T01:33:30.800715Z"
    }
   },
   "outputs": [
    {
     "name": "stdout",
     "output_type": "stream",
     "text": [
      "X: (237, 54)    y: (237,)\n"
     ]
    }
   ],
   "source": [
    "X = np.loadtxt(INPUT_X, delimiter=',')[:, BEGIN_INDEX:END_INDEX_PLUS_ONE]\n",
    "title = np.loadtxt(INPUT_TITLE, dtype='str', delimiter=',', comments='!')[BEGIN_INDEX:END_INDEX_PLUS_ONE, ]\n",
    "y = np.loadtxt(INPUT_Y)\n",
    "print('X:', X.shape, '   y:', y.shape)\n",
    "headers=title\n",
    "y=y>=5\n",
    "if INPUT_Xtest!=None:\n",
    "    predtest = np.loadtxt(INPUT_Xtest, delimiter=',')[:, BEGIN_INDEX:END_INDEX_PLUS_ONE]\n",
    "    # gbct.predict(test)用这个句式即可预测"
   ]
  },
  {
   "cell_type": "code",
   "execution_count": 4,
   "metadata": {
    "ExecuteTime": {
     "end_time": "2023-03-29T01:33:31.720418Z",
     "start_time": "2023-03-29T01:33:31.104752Z"
    },
    "scrolled": true
   },
   "outputs": [],
   "source": [
    "from sklearn.model_selection import StratifiedShuffleSplit\n",
    "from sklearn.model_selection import train_test_split\n",
    "from sklearn.model_selection import cross_validate\n",
    "from sklearn.metrics import RocCurveDisplay\n",
    "from sklearn.metrics import auc\n",
    "import pandas as pd\n",
    "from sklearn import model_selection\n",
    "from sklearn.model_selection import GridSearchCV\n",
    "from sklearn.model_selection import cross_val_score\n",
    "from sklearn.metrics import confusion_matrix\n",
    "import joblib\n",
    "import matplotlib.pyplot as plt\n",
    "import numpy as np\n",
    "from sklearn import metrics"
   ]
  },
  {
   "cell_type": "code",
   "execution_count": 5,
   "metadata": {
    "ExecuteTime": {
     "end_time": "2023-03-29T01:33:31.725752Z",
     "start_time": "2023-03-29T01:33:31.722222Z"
    }
   },
   "outputs": [],
   "source": [
    "X_train, X_test, y_train, y_test = train_test_split(\n",
    "    X, y, test_size=0.15, random_state=3)\n",
    "cv = StratifiedShuffleSplit(n_splits=10, test_size=0.15)"
   ]
  },
  {
   "cell_type": "code",
   "execution_count": 6,
   "metadata": {
    "ExecuteTime": {
     "end_time": "2023-03-29T01:33:31.935837Z",
     "start_time": "2023-03-29T01:33:31.727143Z"
    },
    "scrolled": true
   },
   "outputs": [],
   "source": [
    "import os\n",
    "from pathlib import Path\n",
    "DIR = 'Classification-Multimodel_'+Version+str(X.shape[1])+'_Fs_'+c_time\n",
    "os.mkdir(DIR)"
   ]
  },
  {
   "cell_type": "code",
   "execution_count": 7,
   "metadata": {
    "ExecuteTime": {
     "end_time": "2023-03-29T01:33:32.150216Z",
     "start_time": "2023-03-29T01:33:31.937497Z"
    }
   },
   "outputs": [
    {
     "data": {
      "text/plain": [
       "31"
      ]
     },
     "execution_count": 7,
     "metadata": {},
     "output_type": "execute_result"
    }
   ],
   "source": [
    "LOG_NAME = 'Classification-Multimodel_votingclassifier_Log_'+c_time+'.txt'\n",
    "LOG_NAME = Path('.', DIR, LOG_NAME)\n",
    "f1 = open(LOG_NAME, 'w+')\n",
    "f1.write('XGBoost Regressor\\n\\n')\n",
    "f1.write('Total Epoch: '+str(EPOCH)+'\\n\\n')\n",
    "f1.write('Dataset: '+INPUT_X+', '+INPUT_Y+'\\n')\n",
    "f1.write('Data Shape: '+str(X.shape)+', '+str(y.shape)+'\\n\\n')\n"
   ]
  },
  {
   "cell_type": "code",
   "execution_count": null,
   "metadata": {
    "ExecuteTime": {
     "start_time": "2023-03-29T01:36:59.124Z"
    }
   },
   "outputs": [
    {
     "name": "stdout",
     "output_type": "stream",
     "text": [
      "Fitting 10 folds for each of 1008 candidates, totalling 10080 fits\n"
     ]
    }
   ],
   "source": [
    "# 搭建决策树\n",
    "from sklearn import tree\n",
    "from sklearn.tree import DecisionTreeClassifier\n",
    "tuned_parameters = [{'min_impurity_decrease': [0.01, 0.02, 0.03, 0.04], 'max_depth': [3, 4, 5, 6, 7, 8], \n",
    "                     'max_features': ['sqrt', 'log2'], 'max_leaf_nodes': [3,4,5,6,7,8,9], 'class_weight': ['balanced'], \n",
    "                      'min_samples_split': [3,4,5]}]\n",
    "dtc = DecisionTreeClassifier()\n",
    "clf = GridSearchCV(dtc, tuned_parameters, verbose=1, scoring='roc_auc', cv=cv, n_jobs=CORE_NUM)\n",
    "clf.fit(X_train, y_train)\n",
    "clf_new = clf.best_estimator_\n",
    "best_p = clf.best_params_\n",
    "paras = clf_new.get_params()\n",
    "print(best_p)\n",
    "acc_unique = clf_new.score(X_test, y_test)\n",
    "print('Current accuracy:', acc_unique)\n",
    "clf=clf_new\n",
    "f1.write('Decision Tree optimized paras:\\n'+str(best_p)+'\\n')\n",
    "if INPUT_Xtest!=None:\n",
    "    predres1=clf.predict(predtest)\n",
    "    print(predres1)\n",
    "    f1.write('Pred_full result is:'+str(predres1)+'\\n')"
   ]
  },
  {
   "cell_type": "code",
   "execution_count": null,
   "metadata": {
    "ExecuteTime": {
     "start_time": "2023-03-29T01:36:59.127Z"
    }
   },
   "outputs": [],
   "source": [
    "p = np.argsort(-clf.feature_importances_)\n",
    "feat=[]\n",
    "importance=[]\n",
    "for i in range(3):\n",
    "    print('feature_name:', title[p[i]], 'importance: ', clf.feature_importances_[p[i]])\n",
    "    feat.append(title[p[i]])\n",
    "    importance.append(clf.feature_importances_[p[i]])\n",
    "feat=np.array(feat)\n",
    "importance=np.array(importance)\n",
    "# Plot the feature importances of the forest\n",
    "tree_feature_importances = importance\n",
    "sorted_idx = tree_feature_importances.argsort()\n",
    "y_ticks = np.arange(0, len(feat))\n",
    "\n",
    "#设置输出的图片大小\n",
    "figsize = 12,6\n",
    "fig, ax = plt.subplots(figsize=figsize)\n",
    "ax.barh(feat, tree_feature_importances[sorted_idx])\n",
    "plt.title(\"Decision Tree model feature importance\",fontname=\"Times New Roman\", fontsize=25)\n",
    "plt.xlabel('Feature importance', fontdict={\"family\": \"Times New Roman\", \"size\": 25})\n",
    "plt.ylabel('Feature names', fontdict={\"family\": \"Times New Roman\", \"size\": 25})\n",
    "plt.xticks(fontname=\"Times New Roman\", fontsize=25)\n",
    "plt.yticks(fontname=\"Times New Roman\", fontsize=25)\n",
    "fig.tight_layout()\n",
    "plot_tree_name_2 = 'Decision Tree Model Feature importance_'+'_acc_'+str(round(acc_unique,2))+'.png'\n",
    "plot_tree_name_2 = Path('.', DIR, plot_tree_name_2)\n",
    "plt.savefig(plot_tree_name_2, bbox_inches='tight',dpi=200)\n",
    "plt.show()"
   ]
  },
  {
   "cell_type": "code",
   "execution_count": null,
   "metadata": {
    "ExecuteTime": {
     "start_time": "2023-03-29T01:36:59.129Z"
    }
   },
   "outputs": [],
   "source": [
    "str_array=\",\".join(map(str, importance[sorted_idx[:5]]))\n",
    "str_array1=\",\".join(map(str, np.array(headers)[sorted_idx]))\n",
    "TXT_NAME= 'Decision Tree Model_'+'Feature importance'+'.txt'\n",
    "with open(TXT_NAME, 'w',encoding='utf-8') as w:\n",
    "    w.write(str_array1)\n",
    "    w.write(str_array+'\\n')\n",
    "    w.close()"
   ]
  },
  {
   "cell_type": "code",
   "execution_count": null,
   "metadata": {
    "ExecuteTime": {
     "start_time": "2023-03-29T01:36:59.131Z"
    }
   },
   "outputs": [],
   "source": [
    "from sklearn.metrics import plot_confusion_matrix\n",
    "plot_confusion_matrix(clf, X_test, y_test)  # doctest: +SKIP\n",
    "modelname='Decision Tree'\n",
    "plt.title(modelname)\n",
    "PLOT_NAME2 = 'confusion_matrix_'+modelname+'.png'\n",
    "PLOT_NAME2 = Path('.', DIR, PLOT_NAME2)\n",
    "plt.savefig(PLOT_NAME2, bbox_inches='tight',dpi=150)\n",
    "plt.show()  # doctest: +SKIP"
   ]
  },
  {
   "cell_type": "code",
   "execution_count": null,
   "metadata": {
    "ExecuteTime": {
     "start_time": "2023-03-29T01:36:59.134Z"
    }
   },
   "outputs": [],
   "source": [
    "# Run classifier with cross-validation and plot ROC curves\n",
    "\n",
    "classifier = clf\n",
    "\n",
    "tprs = []\n",
    "aucs = []\n",
    "mean_fpr = np.linspace(0, 1, 100)\n",
    "\n",
    "# plt.figure(figsize=(16, 16), dpi=250)\n",
    "fig, ax = plt.subplots(figsize=(6, 6), dpi=250)\n",
    "for i, (train, test) in enumerate(cv.split(X, y)):\n",
    "    classifier.fit(X[train], y[train])\n",
    "    viz = RocCurveDisplay.from_estimator(\n",
    "        classifier,\n",
    "        X[test],\n",
    "        y[test],\n",
    "        name=\"ROC fold {}\".format(i),\n",
    "        alpha=0.3,\n",
    "        lw=1,\n",
    "        ax=ax,\n",
    "    )\n",
    "    interp_tpr = np.interp(mean_fpr, viz.fpr, viz.tpr)\n",
    "    interp_tpr[0] = 0.0\n",
    "    tprs.append(interp_tpr)\n",
    "    aucs.append(viz.roc_auc)\n",
    "\n",
    "\n",
    "ax.plot([0, 1], [0, 1], linestyle=\"--\", lw=2, color=\"r\", label=\"Chance\", alpha=0.8)\n",
    "\n",
    "mean_tpr = np.mean(tprs, axis=0)\n",
    "mean_tpr[-1] = 1.0\n",
    "mean_auc = auc(mean_fpr, mean_tpr)\n",
    "std_auc = np.std(aucs)\n",
    "ax.plot(\n",
    "    mean_fpr,\n",
    "    mean_tpr,\n",
    "    color=\"b\",\n",
    "    label=r\"Mean ROC (AUC = %0.2f $\\pm$ %0.2f)\" % (mean_auc, std_auc),\n",
    "    lw=2,\n",
    "    alpha=0.8,\n",
    ")\n",
    "\n",
    "std_tpr = np.std(tprs, axis=0)\n",
    "tprs_upper = np.minimum(mean_tpr + std_tpr, 1)\n",
    "tprs_lower = np.maximum(mean_tpr - std_tpr, 0)\n",
    "ax.fill_between(\n",
    "    mean_fpr,\n",
    "    tprs_lower,\n",
    "    tprs_upper,\n",
    "    color=\"grey\",\n",
    "    alpha=0.2,\n",
    "    label=r\"$\\pm$ 1 std. dev.\",\n",
    ")\n",
    "\n",
    "ax.set(\n",
    "    xlim=[-0.05, 1.05],\n",
    "    ylim=[-0.05, 1.05]\n",
    "\n",
    ")\n",
    "plt.title(\"Decision Tree \",fontname=\"Times New Roman\", fontsize=25)\n",
    "plt.xlabel('False positive rate', fontdict={\"family\": \"Times New Roman\", \"size\": 25})\n",
    "plt.ylabel('True positive rate', fontdict={\"family\": \"Times New Roman\", \"size\": 25})\n",
    "plt.xticks(fontname=\"Times New Roman\", fontsize=25)\n",
    "plt.yticks(fontname=\"Times New Roman\", fontsize=25)\n",
    "ax.legend(loc=\"lower right\")\n",
    "\n",
    "\n",
    "score1=cross_validate(classifier, X, y, cv=cv, scoring=('accuracy','f1'))\n",
    "\n",
    "print(score1)\n",
    "PLOT_NAME6 = 'Receiver operating characteristic_'+'Decision Tree Model_'+'_AUC_'+str(round(np.mean(mean_auc),3))+'_acc_'+str(round(np.mean(score1['test_accuracy']),3))+'_f1_'+str(round(np.mean(score1['test_f1']),3))+'.png'\n",
    "PLOT_NAME6 = Path('.', DIR, PLOT_NAME6)\n",
    "plt.savefig(PLOT_NAME6, dpi=250, bbox_inches='tight')\n",
    "plt.show()"
   ]
  },
  {
   "cell_type": "code",
   "execution_count": null,
   "metadata": {
    "ExecuteTime": {
     "start_time": "2023-03-29T01:36:59.136Z"
    }
   },
   "outputs": [],
   "source": [
    "len(X[train])"
   ]
  },
  {
   "cell_type": "code",
   "execution_count": null,
   "metadata": {
    "ExecuteTime": {
     "start_time": "2023-03-29T01:36:59.139Z"
    }
   },
   "outputs": [],
   "source": [
    "# 搭建随机森林模型\n",
    "import sklearn.ensemble\n",
    "tuned_parameters = [{'min_impurity_decrease': [0.0], 'max_depth': [4,5,6,7,8,9], \n",
    "                     'max_features': ['auto'], 'max_leaf_nodes': [4, 5,6,7,8],'criterion':[\"gini\" ,\"entropy\"]}]\n",
    "rf = sklearn.ensemble.RandomForestClassifier()\n",
    "rf = GridSearchCV(rf, tuned_parameters, verbose=1,  scoring='roc_auc', cv=cv, n_jobs=CORE_NUM)\n",
    "rf.fit(X_train, y_train)\n",
    "rf_new = rf.best_estimator_\n",
    "best_p = rf.best_params_\n",
    "paras = rf_new.get_params()\n",
    "print(best_p)\n",
    "acc_unique = rf_new.score(X_test, y_test)\n",
    "print('Current accuracy:', acc_unique)\n",
    "rf=rf.best_estimator_\n",
    "f1.write('Random forest optimized paras:\\n'+str(best_p)+'\\n')\n",
    "if INPUT_Xtest!=None:\n",
    "    predres1=rf.predict(predtest)\n",
    "    print(predres1)\n",
    "    f1.write('Pred_full result is:'+str(predres1)+'\\n')"
   ]
  },
  {
   "cell_type": "code",
   "execution_count": null,
   "metadata": {
    "ExecuteTime": {
     "start_time": "2023-03-29T01:36:59.141Z"
    }
   },
   "outputs": [],
   "source": [
    "from sklearn.inspection import permutation_importance\n",
    "tree_importance_sorted_idx = np.argsort(rf.feature_importances_)\n",
    "tree_indices = np.arange(0, len(rf.feature_importances_)) + 0.5\n",
    "\n",
    "fig, (ax1) = plt.subplots(figsize=(12, 6))\n",
    "ax1.barh(tree_indices[len(headers)-10:],\n",
    "         rf.feature_importances_[tree_importance_sorted_idx[len(headers)-10:]], height=0.7)\n",
    "ax1.set_yticklabels(np.array(headers)[tree_importance_sorted_idx])\n",
    "ax1.set_yticks(tree_indices)\n",
    "ax1.set_ylim((len(headers)-10,len(headers)))\n",
    "plt.title(\"Random Forest model feature importance\",fontname=\"Times New Roman\", fontsize=25)\n",
    "plt.xlabel('Feature importance', fontdict={\"family\": \"Times New Roman\", \"size\": 25})\n",
    "plt.ylabel('Feature names', fontdict={\"family\": \"Times New Roman\", \"size\": 25})\n",
    "plt.xticks(fontname=\"Times New Roman\", fontsize=25)\n",
    "plt.yticks(fontname=\"Times New Roman\", fontsize=25)\n",
    "fig.tight_layout()\n",
    "plot_tree_name_2 = 'Random Forest Model Feature importance_'+'_acc_'+str(round(acc_unique,2))+'.png'\n",
    "plot_tree_name_2 = Path('.', DIR, plot_tree_name_2)\n",
    "plt.savefig(plot_tree_name_2, bbox_inches='tight',dpi=200)\n",
    "plt.show()"
   ]
  },
  {
   "cell_type": "code",
   "execution_count": null,
   "metadata": {
    "ExecuteTime": {
     "start_time": "2023-03-29T01:36:59.144Z"
    }
   },
   "outputs": [],
   "source": [
    "from sklearn.metrics import plot_confusion_matrix\n",
    "plot_confusion_matrix(rf, X_test, y_test)  # doctest: +SKIP\n",
    "modelname='Random Forest'\n",
    "plt.title(modelname)\n",
    "PLOT_NAME2 = 'confusion_matrix_'+modelname+'.png'\n",
    "PLOT_NAME2 = Path('.', DIR, PLOT_NAME2)\n",
    "plt.savefig(PLOT_NAME2, bbox_inches='tight',dpi=150)\n",
    "plt.show()  # doctest: +SKIP"
   ]
  },
  {
   "cell_type": "code",
   "execution_count": null,
   "metadata": {
    "ExecuteTime": {
     "start_time": "2023-03-29T01:36:59.146Z"
    }
   },
   "outputs": [],
   "source": [
    "# Run classifier with cross-validation and plot ROC curves\n",
    "\n",
    "classifier = rf\n",
    "\n",
    "tprs = []\n",
    "aucs = []\n",
    "mean_fpr = np.linspace(0, 1, 100)\n",
    "\n",
    "# plt.figure(figsize=(16, 16), dpi=250)\n",
    "fig, ax = plt.subplots(figsize=(6, 6), dpi=250)\n",
    "for i, (train, test) in enumerate(cv.split(X, y)):\n",
    "    classifier.fit(X[train], y[train])\n",
    "    viz = RocCurveDisplay.from_estimator(\n",
    "        classifier,\n",
    "        X[test],\n",
    "        y[test],\n",
    "        name=\"ROC fold {}\".format(i),\n",
    "        alpha=0.3,\n",
    "        lw=1,\n",
    "        ax=ax,\n",
    "    )\n",
    "    interp_tpr = np.interp(mean_fpr, viz.fpr, viz.tpr)\n",
    "    interp_tpr[0] = 0.0\n",
    "    tprs.append(interp_tpr)\n",
    "    aucs.append(viz.roc_auc)\n",
    "\n",
    "\n",
    "ax.plot([0, 1], [0, 1], linestyle=\"--\", lw=2, color=\"r\", label=\"Chance\", alpha=0.8)\n",
    "\n",
    "mean_tpr = np.mean(tprs, axis=0)\n",
    "mean_tpr[-1] = 1.0\n",
    "mean_auc = auc(mean_fpr, mean_tpr)\n",
    "std_auc = np.std(aucs)\n",
    "ax.plot(\n",
    "    mean_fpr,\n",
    "    mean_tpr,\n",
    "    color=\"b\",\n",
    "    label=r\"Mean ROC (AUC = %0.2f $\\pm$ %0.2f)\" % (mean_auc, std_auc),\n",
    "    lw=2,\n",
    "    alpha=0.8,\n",
    ")\n",
    "\n",
    "std_tpr = np.std(tprs, axis=0)\n",
    "tprs_upper = np.minimum(mean_tpr + std_tpr, 1)\n",
    "tprs_lower = np.maximum(mean_tpr - std_tpr, 0)\n",
    "ax.fill_between(\n",
    "    mean_fpr,\n",
    "    tprs_lower,\n",
    "    tprs_upper,\n",
    "    color=\"grey\",\n",
    "    alpha=0.2,\n",
    "    label=r\"$\\pm$ 1 std. dev.\",\n",
    ")\n",
    "\n",
    "ax.set(\n",
    "    xlim=[-0.05, 1.05],\n",
    "    ylim=[-0.05, 1.05]\n",
    "\n",
    ")\n",
    "plt.title(\"Random Forest\",fontname=\"Times New Roman\", fontsize=25)\n",
    "plt.xlabel('False positive rate', fontdict={\"family\": \"Times New Roman\", \"size\": 25})\n",
    "plt.ylabel('True positive rate', fontdict={\"family\": \"Times New Roman\", \"size\": 25})\n",
    "plt.xticks(fontname=\"Times New Roman\", fontsize=25)\n",
    "plt.yticks(fontname=\"Times New Roman\", fontsize=25)\n",
    "ax.legend(loc=\"lower right\")\n",
    "\n",
    "score1=cross_validate(classifier, X, y, cv=cv, scoring=('accuracy','f1'))\n",
    "\n",
    "print(score1)\n",
    "PLOT_NAME6 = 'Receiver operating characteristic_'+'Random Forset Model_'+'_AUC_'+str(round(np.mean(mean_auc),3))+'_acc_'+str(round(np.mean(score1['test_accuracy']),3))+'_f1_'+str(round(np.mean(score1['test_f1']),3))+'.png'\n",
    "PLOT_NAME6 = Path('.', DIR, PLOT_NAME6)\n",
    "plt.savefig(PLOT_NAME6, dpi=250, bbox_inches='tight')\n",
    "plt.show()"
   ]
  },
  {
   "cell_type": "code",
   "execution_count": null,
   "metadata": {
    "ExecuteTime": {
     "start_time": "2023-03-29T01:36:59.149Z"
    }
   },
   "outputs": [],
   "source": [
    "#GBCT model\n",
    "from sklearn.ensemble import GradientBoostingClassifier\n",
    "tuned_parameters = [{'learning_rate': [0.0025,0.01,0.05,0.1], 'subsample': [0.5], 'min_impurity_decrease': [0.3,0.5],\n",
    "                     'max_depth': [3, 5,10], 'warm_start': [False], 'max_features': ['sqrt'], 'max_leaf_nodes': [4, 6,10],'n_estimators':[10,50,500]}]\n",
    "gbct= GradientBoostingClassifier(verbose=0, validation_fraction=0.15, n_iter_no_change=50, tol=0.0001)\n",
    "gbct = GridSearchCV(gbct, tuned_parameters, verbose=1,  scoring='roc_auc', cv=cv, n_jobs=CORE_NUM)\n",
    "gbct.fit(X_train, y_train)\n",
    "gbct_new = gbct.best_estimator_\n",
    "best_p = gbct.best_params_\n",
    "paras = gbct_new.get_params()\n",
    "print(best_p)\n",
    "acc_unique = gbct_new.score(X_test, y_test)\n",
    "print('Current accuracy:', acc_unique)\n",
    "gbct=gbct.best_estimator_\n",
    "print(gbct.feature_importances_)\n",
    "f1.write('GBCT optimized paras:\\n'+str(best_p)+'\\n')\n",
    "if INPUT_Xtest!=None:\n",
    "    predres1=gbct.predict(predtest)\n",
    "    print(predres1)\n",
    "    f1.write('Pred_full result is:'+str(predres1)+'\\n')"
   ]
  },
  {
   "cell_type": "code",
   "execution_count": null,
   "metadata": {
    "ExecuteTime": {
     "start_time": "2023-03-29T01:36:59.152Z"
    }
   },
   "outputs": [],
   "source": [
    "# gbct.predict(test)"
   ]
  },
  {
   "cell_type": "code",
   "execution_count": null,
   "metadata": {
    "ExecuteTime": {
     "start_time": "2023-03-29T01:36:59.155Z"
    }
   },
   "outputs": [],
   "source": [
    "tree_importance_sorted_idx = np.argsort(gbct.feature_importances_)\n",
    "tree_indices = np.arange(0, len(gbct.feature_importances_)) + 0.5\n",
    "\n",
    "fig, (ax1) = plt.subplots(figsize=(12, 6))\n",
    "ax1.barh(tree_indices[len(headers)-6:],\n",
    "         gbct.feature_importances_[tree_importance_sorted_idx[len(headers)-6:]], height=0.7)\n",
    "ax1.set_yticklabels(np.array(headers)[tree_importance_sorted_idx])\n",
    "ax1.set_yticks(tree_indices)\n",
    "ax1.set_ylim((len(headers)-6,len(headers)))\n",
    "plt.title(\"GradientBoostingClassifier model feature importance\",fontname=\"Times New Roman\", fontsize=25)\n",
    "plt.xlabel('Feature importance', fontdict={\"family\": \"Times New Roman\", \"size\": 25})\n",
    "plt.ylabel('Feature names', fontdict={\"family\": \"Times New Roman\", \"size\": 25})\n",
    "plt.xticks(fontname=\"Times New Roman\", fontsize=25)\n",
    "plt.yticks(fontname=\"Times New Roman\", fontsize=25)\n",
    "fig.tight_layout()\n",
    "plot_tree_name_2 = 'GradientBoostingClassifier Model Feature importance_'+'_acc_'+str(round(acc_unique,2))+'.png'\n",
    "plot_tree_name_2 = Path('.', DIR, plot_tree_name_2)\n",
    "plt.savefig(plot_tree_name_2, bbox_inches='tight',dpi=200)\n",
    "plt.show()"
   ]
  },
  {
   "cell_type": "code",
   "execution_count": null,
   "metadata": {
    "ExecuteTime": {
     "start_time": "2023-03-29T01:36:59.157Z"
    }
   },
   "outputs": [],
   "source": [
    "len(headers)"
   ]
  },
  {
   "cell_type": "code",
   "execution_count": null,
   "metadata": {
    "ExecuteTime": {
     "start_time": "2023-03-29T01:36:59.160Z"
    }
   },
   "outputs": [],
   "source": [
    "from sklearn.metrics import plot_confusion_matrix\n",
    "plot_confusion_matrix(gbct, X_test, y_test)  # doctest: +SKIP\n",
    "\n",
    "modelname='GradientBoostingClassifier'\n",
    "plt.title(modelname)\n",
    "PLOT_NAME2 = 'confusion_matrix_'+modelname+'.png'\n",
    "PLOT_NAME2 = Path('.', DIR, PLOT_NAME2)\n",
    "plt.savefig(PLOT_NAME2, bbox_inches='tight',dpi=150)\n",
    "plt.show()  # doctest: +SKIP"
   ]
  },
  {
   "cell_type": "code",
   "execution_count": null,
   "metadata": {
    "ExecuteTime": {
     "start_time": "2023-03-29T01:36:59.168Z"
    }
   },
   "outputs": [],
   "source": [
    "import shap\n",
    "# X_train, X_test, y_train, y_test = train_test_split(\n",
    "#     X, y, test_size=0.15, random_state=19)\n",
    "explainer = shap.TreeExplainer(gbct)\n",
    "shap_values = explainer.shap_values(X)\n",
    "shap.summary_plot(shap_values, X,feature_names=title)\n",
    "shap_values\n",
    "save_name = 'SHAP_Matrix_GBCT_'+c_time+'.csv'\n",
    "save_name = Path('.', DIR, save_name)\n",
    "np.savetxt(save_name, shap_values, fmt='%s', delimiter=',')\n",
    "\n",
    "for i in range(len(title)):    \n",
    "    plt.scatter(X[:,i], shap_values[:,i])\n",
    "    plt.title(title[i])\n",
    "    plt.show()"
   ]
  },
  {
   "cell_type": "code",
   "execution_count": null,
   "metadata": {
    "ExecuteTime": {
     "start_time": "2023-03-29T01:36:59.174Z"
    }
   },
   "outputs": [],
   "source": [
    "# Run classifier with cross-validation and plot ROC curves\n",
    "\n",
    "\n",
    "classifier = gbct\n",
    "\n",
    "tprs = []\n",
    "aucs = []\n",
    "mean_fpr = np.linspace(0, 1, 100)\n",
    "\n",
    "# plt.figure(figsize=(16, 16), dpi=250)\n",
    "fig, ax = plt.subplots(figsize=(6, 6), dpi=250)\n",
    "for i, (train, test) in enumerate(cv.split(X, y)):\n",
    "    classifier.fit(X[train], y[train])\n",
    "    viz = RocCurveDisplay.from_estimator(\n",
    "        classifier,\n",
    "        X[test],\n",
    "        y[test],\n",
    "        name=\"ROC fold {}\".format(i),\n",
    "        alpha=0.3,\n",
    "        lw=1,\n",
    "        ax=ax,\n",
    "    )\n",
    "    interp_tpr = np.interp(mean_fpr, viz.fpr, viz.tpr)\n",
    "    interp_tpr[0] = 0.0\n",
    "    tprs.append(interp_tpr)\n",
    "    aucs.append(viz.roc_auc)\n",
    "\n",
    "\n",
    "ax.plot([0, 1], [0, 1], linestyle=\"--\", lw=2, color=\"r\", label=\"Chance\", alpha=0.8)\n",
    "\n",
    "mean_tpr = np.mean(tprs, axis=0)\n",
    "mean_tpr[-1] = 1.0\n",
    "mean_auc = auc(mean_fpr, mean_tpr)\n",
    "std_auc = np.std(aucs)\n",
    "ax.plot(\n",
    "    mean_fpr,\n",
    "    mean_tpr,\n",
    "    color=\"b\",\n",
    "    label=r\"Mean ROC (AUC = %0.2f $\\pm$ %0.2f)\" % (mean_auc, std_auc),\n",
    "    lw=2,\n",
    "    alpha=0.8,\n",
    ")\n",
    "\n",
    "std_tpr = np.std(tprs, axis=0)\n",
    "tprs_upper = np.minimum(mean_tpr + std_tpr, 1)\n",
    "tprs_lower = np.maximum(mean_tpr - std_tpr, 0)\n",
    "ax.fill_between(\n",
    "    mean_fpr,\n",
    "    tprs_lower,\n",
    "    tprs_upper,\n",
    "    color=\"grey\",\n",
    "    alpha=0.2,\n",
    "    label=r\"$\\pm$ 1 std. dev.\",\n",
    ")\n",
    "\n",
    "ax.set(\n",
    "    xlim=[-0.05, 1.05],\n",
    "    ylim=[-0.05, 1.05]\n",
    "\n",
    ")\n",
    "plt.title(\"GradientBoostingClassifier\",fontname=\"Times New Roman\", fontsize=25)\n",
    "plt.xlabel('False positive rate', fontdict={\"family\": \"Times New Roman\", \"size\": 25})\n",
    "plt.ylabel('True positive rate', fontdict={\"family\": \"Times New Roman\", \"size\": 25})\n",
    "plt.xticks(fontname=\"Times New Roman\", fontsize=25)\n",
    "plt.yticks(fontname=\"Times New Roman\", fontsize=25)\n",
    "ax.legend(loc=\"lower right\")\n",
    "\n",
    "score1=cross_validate(classifier, X, y, cv=cv, scoring=('accuracy','f1'))\n",
    "\n",
    "print(score1)\n",
    "PLOT_NAME6 = 'Receiver operating characteristic_'+'GradientBoostingClassifier Model_'+'_AUC_'+str(round(np.mean(mean_auc),3))+'_acc_'+str(round(np.mean(score1['test_accuracy']),3))+'_f1_'+str(round(np.mean(score1['test_f1']),3))+'.png';\n",
    "PLOT_NAME6 = Path('.', DIR, PLOT_NAME6)\n",
    "plt.savefig(PLOT_NAME6, dpi=250, bbox_inches='tight')\n",
    "plt.show()"
   ]
  },
  {
   "cell_type": "code",
   "execution_count": null,
   "metadata": {
    "ExecuteTime": {
     "start_time": "2023-03-29T01:36:59.177Z"
    }
   },
   "outputs": [],
   "source": [
    "# 逻辑斯蒂\n",
    "from sklearn.linear_model import LogisticRegression\n",
    "lr = LogisticRegression(class_weight='balanced', verbose=0, n_jobs=-1)\n",
    "\n",
    "lr.fit(X_train, y_train)\n",
    "coef = np.array(lr.coef_).flatten()\n",
    "#Linear regression\n",
    "import numpy as np\n",
    "from sklearn import datasets, linear_model\n",
    "\n",
    "y_pred = lr.predict(X_test)\n",
    "# The coefficients\n",
    "print('Coefficients: \\n', lr.coef_)\n",
    "\n",
    "\n",
    "# 训练后模型截距\n",
    "print('模型截距:')\n",
    "print(lr.intercept_)\n",
    "coefs = pd.DataFrame(\n",
    "   coef,\n",
    "    columns=['Coefficients'], index=headers\n",
    ")\n",
    "coefs.plot(kind='barh', figsize=(9, 7))\n",
    "plt.title('Logistic Regression classifier')\n",
    "plt.axvline(x=0, color='.5')\n",
    "plt.subplots_adjust(left=.3)\n",
    "f1.write('Logistic Regression paras:\\n'+str( lr.coef_)+'\\n')\n",
    "if INPUT_Xtest!=None:\n",
    "    predres1=lr.predict(predtest)\n",
    "    print(predres1)\n",
    "    f1.write('Pred_full result is:'+str(predres1)+'\\n')"
   ]
  },
  {
   "cell_type": "code",
   "execution_count": null,
   "metadata": {
    "ExecuteTime": {
     "start_time": "2023-03-29T01:36:59.179Z"
    }
   },
   "outputs": [],
   "source": [
    "#coefs_copy=coefs.iloc[[idx for idx in range(len(coefs)) if coefs.iloc[idx].values>5e12 or coefs.iloc[idx].values <-5e12]]\n",
    "bound=np.sort(lr.coef_)\n",
    "coefs_copy=coefs.iloc[[idx for idx in range(len(coefs)) if coefs.iloc[idx].values>np.abs(bound[0][2]) or coefs.iloc[idx].values <-np.abs(bound[0][2])]]\n",
    "coefs_copy.plot(kind='barh', figsize=(9, 8))\n",
    "import matplotlib\n",
    "plt.title('Logistic Regression classifier')\n",
    "plt.axvline(x=0, color='.5')\n",
    "\n",
    "plt.title(\"LogisticRegression model feature importance\",fontname=\"Times New Roman\", fontsize=25)\n",
    "plt.xlabel('Feature importance', fontdict={\"family\": \"Times New Roman\", \"size\": 25})\n",
    "plt.ylabel('Feature names', fontdict={\"family\": \"Times New Roman\", \"size\": 25})\n",
    "plt.xticks(fontname=\"Times New Roman\", fontsize=25)\n",
    "plt.yticks(fontname=\"Times New Roman\", fontsize=25)\n",
    "fig.tight_layout()\n",
    "plot_tree_name_2 = 'LogisticRegression Model Feature importance_'+'_acc_'+str(round(acc_unique,2))+'.png'\n",
    "plot_tree_name_2 = Path('.', DIR, plot_tree_name_2)\n",
    "\n",
    "plt.subplots_adjust(left=.3)\n",
    "plt.savefig(plot_tree_name_2, bbox_inches='tight',dpi=200)"
   ]
  },
  {
   "cell_type": "code",
   "execution_count": null,
   "metadata": {
    "ExecuteTime": {
     "start_time": "2023-03-29T01:36:59.182Z"
    }
   },
   "outputs": [],
   "source": [
    "from sklearn.metrics import plot_confusion_matrix\n",
    "plot_confusion_matrix(lr, X_test, y_test)  # doctest: +SKIP\n",
    "modelname='LogisticRegression'\n",
    "plt.title(modelname)\n",
    "PLOT_NAME2 = 'confusion_matrix_'+modelname+'.png'\n",
    "PLOT_NAME2 = Path('.', DIR, PLOT_NAME2)\n",
    "plt.savefig(PLOT_NAME2, bbox_inches='tight',dpi=150)\n",
    "plt.show()  # doctest: +SKIP"
   ]
  },
  {
   "cell_type": "code",
   "execution_count": null,
   "metadata": {
    "ExecuteTime": {
     "start_time": "2023-03-29T01:36:59.184Z"
    }
   },
   "outputs": [],
   "source": [
    "# Run classifier with cross-validation and plot ROC curves\n",
    "\n",
    "classifier = lr\n",
    "\n",
    "tprs = []\n",
    "aucs = []\n",
    "mean_fpr = np.linspace(0, 1, 100)\n",
    "\n",
    "# plt.figure(figsize=(16, 16), dpi=250)\n",
    "fig, ax = plt.subplots(figsize=(6, 6), dpi=250)\n",
    "for i, (train, test) in enumerate(cv.split(X, y)):\n",
    "    classifier.fit(X[train], y[train])\n",
    "    viz = RocCurveDisplay.from_estimator(\n",
    "        classifier,\n",
    "        X[test],\n",
    "        y[test],\n",
    "        name=\"ROC fold {}\".format(i),\n",
    "        alpha=0.3,\n",
    "        lw=1,\n",
    "        ax=ax,\n",
    "    )\n",
    "    interp_tpr = np.interp(mean_fpr, viz.fpr, viz.tpr)\n",
    "    interp_tpr[0] = 0.0\n",
    "    tprs.append(interp_tpr)\n",
    "    aucs.append(viz.roc_auc)\n",
    "\n",
    "\n",
    "ax.plot([0, 1], [0, 1], linestyle=\"--\", lw=2, color=\"r\", label=\"Chance\", alpha=0.8)\n",
    "\n",
    "mean_tpr = np.mean(tprs, axis=0)\n",
    "mean_tpr[-1] = 1.0\n",
    "mean_auc = auc(mean_fpr, mean_tpr)\n",
    "std_auc = np.std(aucs)\n",
    "ax.plot(\n",
    "    mean_fpr,\n",
    "    mean_tpr,\n",
    "    color=\"b\",\n",
    "    label=r\"Mean ROC (AUC = %0.2f $\\pm$ %0.2f)\" % (mean_auc, std_auc),\n",
    "    lw=2,\n",
    "    alpha=0.8,\n",
    ")\n",
    "\n",
    "std_tpr = np.std(tprs, axis=0)\n",
    "tprs_upper = np.minimum(mean_tpr + std_tpr, 1)\n",
    "tprs_lower = np.maximum(mean_tpr - std_tpr, 0)\n",
    "ax.fill_between(\n",
    "    mean_fpr,\n",
    "    tprs_lower,\n",
    "    tprs_upper,\n",
    "    color=\"grey\",\n",
    "    alpha=0.2,\n",
    "    label=r\"$\\pm$ 1 std. dev.\",\n",
    ")\n",
    "\n",
    "ax.set(\n",
    "    xlim=[-0.05, 1.05],\n",
    "    ylim=[-0.05, 1.05]\n",
    "\n",
    ")\n",
    "plt.title(\"Logistic Regreesion\",fontname=\"Times New Roman\", fontsize=25)\n",
    "plt.xlabel('False positive rate', fontdict={\"family\": \"Times New Roman\", \"size\": 25})\n",
    "plt.ylabel('True positive rate', fontdict={\"family\": \"Times New Roman\", \"size\": 25})\n",
    "plt.xticks(fontname=\"Times New Roman\", fontsize=25)\n",
    "plt.yticks(fontname=\"Times New Roman\", fontsize=25)\n",
    "ax.legend(loc=\"lower right\")\n",
    "\n",
    "score1=cross_validate(classifier, X, y, cv=cv, scoring=('accuracy','f1'))\n",
    "\n",
    "print(score1)\n",
    "PLOT_NAME6 = 'Receiver operating characteristic_'+'LogisticRegression Model_'+'_AUC_'+str(round(np.mean(mean_auc),3))+'_acc_'+str(round(np.mean(score1['test_accuracy']),3))+'_f1_'+str(round(np.mean(score1['test_f1']),3))+'.png'\n",
    "PLOT_NAME6 = Path('.', DIR, PLOT_NAME6)\n",
    "plt.savefig(PLOT_NAME6, dpi=250, bbox_inches='tight')\n",
    "plt.show()"
   ]
  },
  {
   "cell_type": "code",
   "execution_count": null,
   "metadata": {
    "ExecuteTime": {
     "start_time": "2023-03-29T01:36:59.187Z"
    }
   },
   "outputs": [],
   "source": [
    "import xgboost as xgb\n",
    "from xgboost.sklearn import XGBClassifier\n",
    "parameters= [{'learning_rate':[0.01,0.1],'n_estimators':[50,100,500],'max_depth':[3,5,10]}]\n",
    "clf = GridSearchCV(XGBClassifier(            \n",
    "             min_child_weight=1,\n",
    "             gamma=0.5,\n",
    "             subsample=0.6,\n",
    "             colsample_bytree=0.6,\n",
    "             objective= 'binary:logistic', #逻辑回归损失函数\n",
    "             scale_pos_weight=1,\n",
    "             reg_alpha=0,\n",
    "             reg_lambda=1, n_jobs=CORE_NUM\n",
    "            ),\n",
    "            param_grid=parameters,scoring='roc_auc') \n",
    "clf.fit(X_train, y_train)\n",
    "print(clf.best_params_) \n",
    "y_pre= clf.predict(X_test)\n",
    "y_pro= clf.predict_proba(X_test)[:,1]\n",
    "print (\"AUC Score : %f\" % metrics.roc_auc_score(y_test, y_pro))\n",
    "print(\"Accuracy : %.4g\" % metrics.accuracy_score(y_test, y_pre))   \n",
    "xgb=clf.best_estimator_\n",
    "print('xgb parameter = ',xgb)\n",
    "f1.write('XGB optimized paras:\\n'+str(xgb)+'\\n')\n",
    "if INPUT_Xtest!=None:\n",
    "    predres1=xgb.predict(predtest)\n",
    "    print(predres1)\n",
    "    f1.write('Pred_full result is:'+str(predres1)+'\\n')"
   ]
  },
  {
   "cell_type": "code",
   "execution_count": null,
   "metadata": {
    "ExecuteTime": {
     "start_time": "2023-03-29T01:36:59.189Z"
    }
   },
   "outputs": [],
   "source": [
    "from sklearn.inspection import permutation_importance\n",
    "tree_importance_sorted_idx = np.argsort(xgb.feature_importances_)\n",
    "tree_indices = np.arange(0, len(xgb.feature_importances_)) + 0.5\n",
    "\n",
    "fig, (ax1) = plt.subplots(figsize=(12, 6))\n",
    "ax1.barh(tree_indices[len(headers)-10:],\n",
    "         xgb.feature_importances_[tree_importance_sorted_idx[len(headers)-10:]], height=0.7)\n",
    "ax1.set_yticklabels(np.array(headers)[tree_importance_sorted_idx])\n",
    "ax1.set_yticks(tree_indices)\n",
    "ax1.set_ylim((len(headers)-10,len(headers)))\n",
    "plt.title(\"XGBoost CLassifier model feature importance\",fontname=\"Times New Roman\", fontsize=25)\n",
    "plt.xlabel('Feature importance', fontdict={\"family\": \"Times New Roman\", \"size\": 25})\n",
    "plt.ylabel('Feature names', fontdict={\"family\": \"Times New Roman\", \"size\": 25})\n",
    "plt.xticks(fontname=\"Times New Roman\", fontsize=25)\n",
    "plt.yticks(fontname=\"Times New Roman\", fontsize=25)\n",
    "fig.tight_layout()\n",
    "plot_tree_name_2 = 'XGBoost Classifier Model Feature importance_'+'_acc_'+str(round(acc_unique,2))+'.png'\n",
    "plot_tree_name_2 = Path('.', DIR, plot_tree_name_2)\n",
    "plt.savefig(plot_tree_name_2, bbox_inches='tight',dpi=200)\n",
    "plt.show()"
   ]
  },
  {
   "cell_type": "code",
   "execution_count": null,
   "metadata": {
    "ExecuteTime": {
     "start_time": "2023-03-29T01:36:59.192Z"
    }
   },
   "outputs": [],
   "source": [
    "from sklearn.metrics import plot_confusion_matrix\n",
    "plot_confusion_matrix(xgb, X_test, y_test)  # doctest: +SKIP\n",
    "modelname='XGBoost Classifier'\n",
    "plt.title(modelname)\n",
    "PLOT_NAME2 = 'confusion_matrix_'+modelname+'.png'\n",
    "PLOT_NAME2 = Path('.', DIR, PLOT_NAME2)\n",
    "plt.savefig(PLOT_NAME2, bbox_inches='tight',dpi=150)\n",
    "plt.show()  # doctest: +SKIP"
   ]
  },
  {
   "cell_type": "code",
   "execution_count": null,
   "metadata": {
    "ExecuteTime": {
     "start_time": "2023-03-29T01:36:59.195Z"
    }
   },
   "outputs": [],
   "source": [
    "# Run classifier with cross-validation and plot ROC curves\n",
    "\n",
    "classifier = xgb\n",
    "\n",
    "tprs = []\n",
    "aucs = []\n",
    "mean_fpr = np.linspace(0, 1, 100)\n",
    "\n",
    "# plt.figure(figsize=(16, 16), dpi=250)\n",
    "fig, ax = plt.subplots(figsize=(6, 6), dpi=250)\n",
    "for i, (train, test) in enumerate(cv.split(X, y)):\n",
    "    classifier.fit(X[train], y[train])\n",
    "    viz = RocCurveDisplay.from_estimator(\n",
    "        classifier,\n",
    "        X[test],\n",
    "        y[test],\n",
    "        name=\"ROC fold {}\".format(i),\n",
    "        alpha=0.3,\n",
    "        lw=1,\n",
    "        ax=ax,\n",
    "    )\n",
    "    interp_tpr = np.interp(mean_fpr, viz.fpr, viz.tpr)\n",
    "    interp_tpr[0] = 0.0\n",
    "    tprs.append(interp_tpr)\n",
    "    aucs.append(viz.roc_auc)\n",
    "\n",
    "\n",
    "ax.plot([0, 1], [0, 1], linestyle=\"--\", lw=2, color=\"r\", label=\"Chance\", alpha=0.8)\n",
    "\n",
    "mean_tpr = np.mean(tprs, axis=0)\n",
    "mean_tpr[-1] = 1.0\n",
    "mean_auc = auc(mean_fpr, mean_tpr)\n",
    "std_auc = np.std(aucs)\n",
    "ax.plot(\n",
    "    mean_fpr,\n",
    "    mean_tpr,\n",
    "    color=\"b\",\n",
    "    label=r\"Mean ROC (AUC = %0.2f $\\pm$ %0.2f)\" % (mean_auc, std_auc),\n",
    "    lw=2,\n",
    "    alpha=0.8,\n",
    ")\n",
    "\n",
    "std_tpr = np.std(tprs, axis=0)\n",
    "tprs_upper = np.minimum(mean_tpr + std_tpr, 1)\n",
    "tprs_lower = np.maximum(mean_tpr - std_tpr, 0)\n",
    "ax.fill_between(\n",
    "    mean_fpr,\n",
    "    tprs_lower,\n",
    "    tprs_upper,\n",
    "    color=\"grey\",\n",
    "    alpha=0.2,\n",
    "    label=r\"$\\pm$ 1 std. dev.\",\n",
    ")\n",
    "\n",
    "ax.set(\n",
    "    xlim=[-0.05, 1.05],\n",
    "    ylim=[-0.05, 1.05]\n",
    "\n",
    ")\n",
    "plt.title(\"XGBoost Classifier\",fontname=\"Times New Roman\", fontsize=25)\n",
    "plt.xlabel('False positive rate', fontdict={\"family\": \"Times New Roman\", \"size\": 25})\n",
    "plt.ylabel('True positive rate', fontdict={\"family\": \"Times New Roman\", \"size\": 25})\n",
    "plt.xticks(fontname=\"Times New Roman\", fontsize=25)\n",
    "plt.yticks(fontname=\"Times New Roman\", fontsize=25)\n",
    "ax.legend(loc=\"lower right\")\n",
    "\n",
    "score1=cross_validate(classifier, X, y, cv=cv, scoring=('accuracy','f1'))\n",
    "\n",
    "print(score1)\n",
    "PLOT_NAME6 = 'Receiver operating characteristic_'+'XGBoost CLassifier Model_'+'_AUC_'+str(round(np.mean(mean_auc),3))+'_acc_'+str(round(np.mean(score1['test_accuracy']),3))+'_f1_'+str(round(np.mean(score1['test_f1']),3))+'.png'\n",
    "PLOT_NAME6 = Path('.', DIR, PLOT_NAME6)\n",
    "plt.savefig(PLOT_NAME6, dpi=250, bbox_inches='tight')\n",
    "plt.show()"
   ]
  },
  {
   "cell_type": "code",
   "execution_count": null,
   "metadata": {
    "ExecuteTime": {
     "start_time": "2023-03-29T01:36:59.197Z"
    }
   },
   "outputs": [],
   "source": [
    "# explainer = shap.Explainer(xgb, X)\n",
    "# shap_values = explainer(X)\n",
    "# shap.plots.bar(shap_values, max_display=12)"
   ]
  },
  {
   "cell_type": "code",
   "execution_count": null,
   "metadata": {
    "ExecuteTime": {
     "start_time": "2023-03-29T01:36:59.200Z"
    }
   },
   "outputs": [],
   "source": [
    "#KNeighborsClassifier model\n",
    "from sklearn.neighbors import KNeighborsClassifier\n",
    "tuned_parameters = [{'n_neighbors': [5,15,50], 'algorithm': ['auto', 'ball_tree', 'kd_tree', 'brute']}]\n",
    "KNeighbors= KNeighborsClassifier()\n",
    "\n",
    "KNeighbors= GridSearchCV(KNeighbors, tuned_parameters, verbose=1, scoring='roc_auc', cv=cv, n_jobs=CORE_NUM)\n",
    "KNeighbors.fit(X_train, y_train)\n",
    "KNeighbors_new = KNeighbors.best_estimator_\n",
    "best_p = KNeighbors.best_params_\n",
    "paras = KNeighbors_new.get_params()\n",
    "print(best_p)\n",
    "acc_unique = KNeighbors_new.score(X_test, y_test)\n",
    "print('Current accuracy:', acc_unique)\n",
    "KNeighbors=KNeighbors.best_estimator_\n",
    "f1.write('KNN optimized paras:\\n'+str(best_p)+'\\n')\n",
    "if INPUT_Xtest!=None:\n",
    "    predres1=KNeighbors.predict(predtest)\n",
    "    print(predres1)\n",
    "    f1.write('Pred_full result is:'+str(predres1)+'\\n')"
   ]
  },
  {
   "cell_type": "code",
   "execution_count": null,
   "metadata": {
    "ExecuteTime": {
     "start_time": "2023-03-29T01:36:59.203Z"
    }
   },
   "outputs": [],
   "source": [
    "from sklearn.metrics import plot_confusion_matrix\n",
    "plot_confusion_matrix(KNeighbors, X_test, y_test)  # doctest: +SKIP\n",
    "modelname='NeighborsClassifier'\n",
    "plt.title(modelname)\n",
    "PLOT_NAME2 = 'confusion_matrix_'+modelname+'.png'\n",
    "PLOT_NAME2 = Path('.', DIR, PLOT_NAME2)\n",
    "plt.savefig(PLOT_NAME2, bbox_inches='tight',dpi=150)\n",
    "plt.show()  # doctest: +SKIP"
   ]
  },
  {
   "cell_type": "code",
   "execution_count": null,
   "metadata": {
    "ExecuteTime": {
     "start_time": "2023-03-29T01:36:59.206Z"
    }
   },
   "outputs": [],
   "source": [
    "# Run classifier with cross-validation and plot ROC curves\n",
    "\n",
    "classifier = KNeighbors\n",
    "\n",
    "tprs = []\n",
    "aucs = []\n",
    "mean_fpr = np.linspace(0, 1, 100)\n",
    "\n",
    "# plt.figure(figsize=(16, 16), dpi=250)\n",
    "fig, ax = plt.subplots(figsize=(6, 6), dpi=250)\n",
    "for i, (train, test) in enumerate(cv.split(X, y)):\n",
    "    classifier.fit(X[train], y[train])\n",
    "    viz = RocCurveDisplay.from_estimator(\n",
    "        classifier,\n",
    "        X[test],\n",
    "        y[test],\n",
    "        name=\"ROC fold {}\".format(i),\n",
    "        alpha=0.3,\n",
    "        lw=1,\n",
    "        ax=ax,\n",
    "    )\n",
    "    interp_tpr = np.interp(mean_fpr, viz.fpr, viz.tpr)\n",
    "    interp_tpr[0] = 0.0\n",
    "    tprs.append(interp_tpr)\n",
    "    aucs.append(viz.roc_auc)\n",
    "\n",
    "\n",
    "ax.plot([0, 1], [0, 1], linestyle=\"--\", lw=2, color=\"r\", label=\"Chance\", alpha=0.8)\n",
    "\n",
    "mean_tpr = np.mean(tprs, axis=0)\n",
    "mean_tpr[-1] = 1.0\n",
    "mean_auc = auc(mean_fpr, mean_tpr)\n",
    "std_auc = np.std(aucs)\n",
    "ax.plot(\n",
    "    mean_fpr,\n",
    "    mean_tpr,\n",
    "    color=\"b\",\n",
    "    label=r\"Mean ROC (AUC = %0.2f $\\pm$ %0.2f)\" % (mean_auc, std_auc),\n",
    "    lw=2,\n",
    "    alpha=0.8,\n",
    ")\n",
    "\n",
    "std_tpr = np.std(tprs, axis=0)\n",
    "tprs_upper = np.minimum(mean_tpr + std_tpr, 1)\n",
    "tprs_lower = np.maximum(mean_tpr - std_tpr, 0)\n",
    "ax.fill_between(\n",
    "    mean_fpr,\n",
    "    tprs_lower,\n",
    "    tprs_upper,\n",
    "    color=\"grey\",\n",
    "    alpha=0.2,\n",
    "    label=r\"$\\pm$ 1 std. dev.\",\n",
    ")\n",
    "\n",
    "ax.set(\n",
    "    xlim=[-0.05, 1.05],\n",
    "    ylim=[-0.05, 1.05]\n",
    "\n",
    ")\n",
    "plt.title(\"Nearest Neighbors\",fontname=\"Times New Roman\", fontsize=25)\n",
    "plt.xlabel('False positive rate', fontdict={\"family\": \"Times New Roman\", \"size\": 25})\n",
    "plt.ylabel('True positive rate', fontdict={\"family\": \"Times New Roman\", \"size\": 25})\n",
    "plt.xticks(fontname=\"Times New Roman\", fontsize=25)\n",
    "plt.yticks(fontname=\"Times New Roman\", fontsize=25)\n",
    "ax.legend(loc=\"lower right\")\n",
    "\n",
    "score1=cross_validate(classifier, X, y, cv=cv, scoring=('accuracy','f1'))\n",
    "\n",
    "print(score1)\n",
    "PLOT_NAME6 = 'Receiver operating characteristic_'+'KNearest Neighbors Model_'+'_AUC_'+str(round(np.mean(mean_auc),3))+'_acc_'+str(round(np.mean(score1['test_accuracy']),3))+'_f1_'+str(round(np.mean(score1['test_f1']),3))+'.png'\n",
    "PLOT_NAME6 = Path('.', DIR, PLOT_NAME6)\n",
    "plt.savefig(PLOT_NAME6, dpi=250, bbox_inches='tight')\n",
    "plt.show()"
   ]
  },
  {
   "cell_type": "code",
   "execution_count": null,
   "metadata": {
    "ExecuteTime": {
     "start_time": "2023-03-29T01:36:59.209Z"
    }
   },
   "outputs": [],
   "source": [
    "# mlp\n",
    "from sklearn.neural_network import MLPClassifier\n",
    "from sklearn.preprocessing import MinMaxScaler\n",
    "tuned_parameters = [{ 'activation': ['identity', 'logistic', 'tanh', 'relu'],'solver': ['lbfgs', 'sgd', 'adam'],'learning_rate_init': [0.001,0.01,0.1]}]\n",
    "X = MinMaxScaler().fit_transform(X)\n",
    "mlp = MLPClassifier( hidden_layer_sizes=(5, 3))\n",
    "\n",
    "mlp= GridSearchCV(mlp, tuned_parameters,verbose=1, scoring='roc_auc', cv=cv, n_jobs=CORE_NUM)\n",
    "mlp.fit(X_train, y_train)\n",
    "mlp_new = mlp.best_estimator_\n",
    "best_p = mlp.best_params_\n",
    "paras = mlp_new.get_params()\n",
    "print(best_p)\n",
    "acc_unique = mlp_new.score(X_test, y_test)\n",
    "print('Current accuracy:', acc_unique)\n",
    "mlp=mlp.best_estimator_\n",
    "f1.write('MLP optimized paras:\\n'+str(best_p)+'\\n')\n",
    "if INPUT_Xtest!=None:\n",
    "    predres1=mlp.predict(predtest)\n",
    "    print(predres1)\n",
    "    f1.write('Pred_full result is:'+str(predres1)+'\\n')"
   ]
  },
  {
   "cell_type": "code",
   "execution_count": null,
   "metadata": {
    "ExecuteTime": {
     "start_time": "2023-03-29T01:36:59.212Z"
    }
   },
   "outputs": [],
   "source": [
    "from sklearn.metrics import plot_confusion_matrix\n",
    "plot_confusion_matrix(mlp, X_test, y_test)  # doctest: +SKIP\n",
    "modelname='MLPClassifier'\n",
    "plt.title(modelname)\n",
    "PLOT_NAME2 = 'confusion_matrix_'+modelname+'.png'\n",
    "PLOT_NAME2 = Path('.', DIR, PLOT_NAME2)\n",
    "plt.savefig(PLOT_NAME2, bbox_inches='tight',dpi=150)\n",
    "plt.show()  # doctest: +SKIP"
   ]
  },
  {
   "cell_type": "code",
   "execution_count": null,
   "metadata": {
    "ExecuteTime": {
     "start_time": "2023-03-29T01:36:59.215Z"
    }
   },
   "outputs": [],
   "source": [
    "# Run classifier with cross-validation and plot ROC curves\n",
    "\n",
    "classifier = mlp\n",
    "\n",
    "tprs = []\n",
    "aucs = []\n",
    "mean_fpr = np.linspace(0, 1, 100)\n",
    "\n",
    "# plt.figure(figsize=(16, 16), dpi=250)\n",
    "fig, ax = plt.subplots(figsize=(6, 6), dpi=250)\n",
    "for i, (train, test) in enumerate(cv.split(X, y)):\n",
    "    classifier.fit(X[train], y[train])\n",
    "    viz = RocCurveDisplay.from_estimator(\n",
    "        classifier,\n",
    "        X[test],\n",
    "        y[test],\n",
    "        name=\"ROC fold {}\".format(i),\n",
    "        alpha=0.3,\n",
    "        lw=1,\n",
    "        ax=ax,\n",
    "    )\n",
    "    interp_tpr = np.interp(mean_fpr, viz.fpr, viz.tpr)\n",
    "    interp_tpr[0] = 0.0\n",
    "    tprs.append(interp_tpr)\n",
    "    aucs.append(viz.roc_auc)\n",
    "\n",
    "\n",
    "ax.plot([0, 1], [0, 1], linestyle=\"--\", lw=2, color=\"r\", label=\"Chance\", alpha=0.8)\n",
    "\n",
    "mean_tpr = np.mean(tprs, axis=0)\n",
    "mean_tpr[-1] = 1.0\n",
    "mean_auc = auc(mean_fpr, mean_tpr)\n",
    "std_auc = np.std(aucs)\n",
    "ax.plot(\n",
    "    mean_fpr,\n",
    "    mean_tpr,\n",
    "    color=\"b\",\n",
    "    label=r\"Mean ROC (AUC = %0.2f $\\pm$ %0.2f)\" % (mean_auc, std_auc),\n",
    "    lw=2,\n",
    "    alpha=0.8,\n",
    ")\n",
    "\n",
    "std_tpr = np.std(tprs, axis=0)\n",
    "tprs_upper = np.minimum(mean_tpr + std_tpr, 1)\n",
    "tprs_lower = np.maximum(mean_tpr - std_tpr, 0)\n",
    "ax.fill_between(\n",
    "    mean_fpr,\n",
    "    tprs_lower,\n",
    "    tprs_upper,\n",
    "    color=\"grey\",\n",
    "    alpha=0.2,\n",
    "    label=r\"$\\pm$ 1 std. dev.\",\n",
    ")\n",
    "\n",
    "ax.set(\n",
    "    xlim=[-0.05, 1.05],\n",
    "    ylim=[-0.05, 1.05]\n",
    "\n",
    ")\n",
    "plt.title(\"Multi-layer Perceptron classifier\",fontname=\"Times New Roman\", fontsize=25)\n",
    "plt.xlabel('False positive rate', fontdict={\"family\": \"Times New Roman\", \"size\": 25})\n",
    "plt.ylabel('True positive rate', fontdict={\"family\": \"Times New Roman\", \"size\": 25})\n",
    "plt.xticks(fontname=\"Times New Roman\", fontsize=25)\n",
    "plt.yticks(fontname=\"Times New Roman\", fontsize=25)\n",
    "ax.legend(loc=\"lower right\")\n",
    "\n",
    "score1=cross_validate(classifier, X, y, cv=cv, scoring=('accuracy','f1'))\n",
    "\n",
    "print(score1)\n",
    "PLOT_NAME6 = 'Receiver operating characteristic_'+'Multi-layer Perceptron classifier Model_'+'_AUC_'+str(round(np.mean(mean_auc),3))+'_acc_'+str(round(np.mean(score1['test_accuracy']),3))+'_f1_'+str(round(np.mean(score1['test_f1']),3))+'.png'\n",
    "PLOT_NAME6 = Path('.', DIR, PLOT_NAME6)\n",
    "plt.savefig(PLOT_NAME6, dpi=250, bbox_inches='tight')\n",
    "plt.show()"
   ]
  },
  {
   "cell_type": "code",
   "execution_count": null,
   "metadata": {
    "ExecuteTime": {
     "start_time": "2023-03-29T01:36:59.217Z"
    }
   },
   "outputs": [],
   "source": [
    "# SVM\n",
    "from sklearn import svm\n",
    "svc = svm.SVC()\n",
    "# svc.fit(X, y)\n",
    "\n",
    "\n",
    "# tuned_parameters = [{ 'kernel': ['linear']}]\n",
    "# svc = svm.SVC()\n",
    "\n",
    "# svc = GridSearchCV(svc, tuned_parameters, verbose=1, scoring='roc_auc', cv=cv)\n",
    "svc.fit(X_train, y_train)\n",
    "# svc_new = svc.best_estimator_\n",
    "# best_p = svc.best_params_\n",
    "# paras = svc_new.get_params()\n",
    "# print(best_p)\n",
    "# acc_unique = svc_new.score(X_test, y_test)\n",
    "# print('Current accuracy:', acc_unique)\n",
    "# svc=svc.best_estimator_\n",
    "f1.write('svc optimized paras:\\n'+str(best_p)+'\\n')\n",
    "if INPUT_Xtest!=None:\n",
    "    predres1=svc.predict(predtest)\n",
    "    print(predres1)\n",
    "    f1.write('Pred_full result is:'+str(predres1)+'\\n')"
   ]
  },
  {
   "cell_type": "code",
   "execution_count": null,
   "metadata": {
    "ExecuteTime": {
     "start_time": "2023-03-29T01:36:59.220Z"
    }
   },
   "outputs": [],
   "source": [
    "from sklearn.metrics import plot_confusion_matrix\n",
    "plot_confusion_matrix(svc, X_test, y_test)  # doctest: +SKIP\n",
    "modelname='SVC'\n",
    "plt.title(modelname)\n",
    "PLOT_NAME2 = 'confusion_matrix_'+modelname+'.png'\n",
    "PLOT_NAME2 = Path('.', DIR, PLOT_NAME2)\n",
    "plt.savefig(PLOT_NAME2, bbox_inches='tight',dpi=150)\n",
    "plt.show()  # doctest: +SKIP"
   ]
  },
  {
   "cell_type": "code",
   "execution_count": null,
   "metadata": {
    "ExecuteTime": {
     "start_time": "2023-03-29T01:36:59.223Z"
    }
   },
   "outputs": [],
   "source": [
    "# Run classifier with cross-validation and plot ROC curves\n",
    "\n",
    "classifier = svc\n",
    "\n",
    "tprs = []\n",
    "aucs = []\n",
    "mean_fpr = np.linspace(0, 1, 100)\n",
    "\n",
    "# plt.figure(figsize=(16, 16), dpi=250)\n",
    "fig, ax = plt.subplots(figsize=(6, 6), dpi=250)\n",
    "for i, (train, test) in enumerate(cv.split(X, y)):\n",
    "    classifier.fit(X[train], y[train])\n",
    "    viz = RocCurveDisplay.from_estimator(\n",
    "        classifier,\n",
    "        X[test],\n",
    "        y[test],\n",
    "        name=\"ROC fold {}\".format(i),\n",
    "        alpha=0.3,\n",
    "        lw=1,\n",
    "        ax=ax,\n",
    "    )\n",
    "    interp_tpr = np.interp(mean_fpr, viz.fpr, viz.tpr)\n",
    "    interp_tpr[0] = 0.0\n",
    "    tprs.append(interp_tpr)\n",
    "    aucs.append(viz.roc_auc)\n",
    "\n",
    "\n",
    "ax.plot([0, 1], [0, 1], linestyle=\"--\", lw=2, color=\"r\", label=\"Chance\", alpha=0.8)\n",
    "\n",
    "mean_tpr = np.mean(tprs, axis=0)\n",
    "mean_tpr[-1] = 1.0\n",
    "mean_auc = auc(mean_fpr, mean_tpr)\n",
    "std_auc = np.std(aucs)\n",
    "ax.plot(\n",
    "    mean_fpr,\n",
    "    mean_tpr,\n",
    "    color=\"b\",\n",
    "    label=r\"Mean ROC (AUC = %0.2f $\\pm$ %0.2f)\" % (mean_auc, std_auc),\n",
    "    lw=2,\n",
    "    alpha=0.8,\n",
    ")\n",
    "\n",
    "std_tpr = np.std(tprs, axis=0)\n",
    "tprs_upper = np.minimum(mean_tpr + std_tpr, 1)\n",
    "tprs_lower = np.maximum(mean_tpr - std_tpr, 0)\n",
    "ax.fill_between(\n",
    "    mean_fpr,\n",
    "    tprs_lower,\n",
    "    tprs_upper,\n",
    "    color=\"grey\",\n",
    "    alpha=0.2,\n",
    "    label=r\"$\\pm$ 1 std. dev.\",\n",
    ")\n",
    "\n",
    "ax.set(\n",
    "    xlim=[-0.05, 1.05],\n",
    "    ylim=[-0.05, 1.05]\n",
    "\n",
    ")\n",
    "plt.title(\"SVC\",fontname=\"Times New Roman\", fontsize=25)\n",
    "plt.xlabel('False positive rate', fontdict={\"family\": \"Times New Roman\", \"size\": 25})\n",
    "plt.ylabel('True positive rate', fontdict={\"family\": \"Times New Roman\", \"size\": 25})\n",
    "plt.xticks(fontname=\"Times New Roman\", fontsize=25)\n",
    "plt.yticks(fontname=\"Times New Roman\", fontsize=25)\n",
    "ax.legend(loc=\"lower right\")\n",
    "\n",
    "score1=cross_validate(classifier, X, y, cv=cv, scoring=('accuracy','f1'))\n",
    "\n",
    "print(score1)\n",
    "PLOT_NAME6 = 'Receiver operating characteristic_'+'SVC Model_'+'_acc_'+'_AUC_'+str(round(np.mean(mean_auc),3))+'_acc_'+str(round(np.mean(score1['test_accuracy']),3))+'_f1_'+str(round(np.mean(score1['test_f1']),3))+'.png'\n",
    "PLOT_NAME6 = Path('.', DIR, PLOT_NAME6)\n",
    "plt.savefig(PLOT_NAME6, dpi=250, bbox_inches='tight')\n",
    "plt.show()"
   ]
  },
  {
   "cell_type": "code",
   "execution_count": null,
   "metadata": {
    "ExecuteTime": {
     "start_time": "2023-03-29T01:36:59.225Z"
    },
    "scrolled": true
   },
   "outputs": [],
   "source": [
    "\n",
    "f1.close()"
   ]
  },
  {
   "cell_type": "code",
   "execution_count": null,
   "metadata": {},
   "outputs": [],
   "source": []
  },
  {
   "cell_type": "code",
   "execution_count": null,
   "metadata": {},
   "outputs": [],
   "source": []
  }
 ],
 "metadata": {
  "hide_input": false,
  "kernelspec": {
   "display_name": "PythonForDYH",
   "language": "python",
   "name": "dyhpy"
  },
  "language_info": {
   "codemirror_mode": {
    "name": "ipython",
    "version": 3
   },
   "file_extension": ".py",
   "mimetype": "text/x-python",
   "name": "python",
   "nbconvert_exporter": "python",
   "pygments_lexer": "ipython3",
   "version": "3.7.6"
  },
  "varInspector": {
   "cols": {
    "lenName": 16,
    "lenType": 16,
    "lenVar": 40
   },
   "kernels_config": {
    "python": {
     "delete_cmd_postfix": "",
     "delete_cmd_prefix": "del ",
     "library": "var_list.py",
     "varRefreshCmd": "print(var_dic_list())"
    },
    "r": {
     "delete_cmd_postfix": ") ",
     "delete_cmd_prefix": "rm(",
     "library": "var_list.r",
     "varRefreshCmd": "cat(var_dic_list()) "
    }
   },
   "position": {
    "height": "760.148px",
    "left": "1813.65px",
    "right": "20px",
    "top": "115.992px",
    "width": "758.625px"
   },
   "types_to_exclude": [
    "module",
    "function",
    "builtin_function_or_method",
    "instance",
    "_Feature"
   ],
   "window_display": false
  }
 },
 "nbformat": 4,
 "nbformat_minor": 2
}
